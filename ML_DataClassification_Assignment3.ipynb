{
  "nbformat": 4,
  "nbformat_minor": 0,
  "metadata": {
    "colab": {
      "name": "ML_DataClassification_Assignment3.ipynb",
      "provenance": [],
      "collapsed_sections": []
    },
    "kernelspec": {
      "name": "python3",
      "display_name": "Python 3"
    },
    "language_info": {
      "name": "python"
    },
    "accelerator": "GPU"
  },
  "cells": [
    {
      "cell_type": "markdown",
      "metadata": {
        "id": "j7bFLbofaJrq"
      },
      "source": [
        "#Initialization"
      ]
    },
    {
      "cell_type": "markdown",
      "metadata": {
        "id": "gUIdCRgJqbBU"
      },
      "source": [
        "Import the required packages and modules"
      ]
    },
    {
      "cell_type": "code",
      "metadata": {
        "id": "8kKHbEDfPBcE",
        "colab": {
          "base_uri": "https://localhost:8080/"
        },
        "outputId": "ac38c8ca-6fee-4af1-f847-043ab249a7e5"
      },
      "source": [
        "import sklearn as sk\n",
        "import pandas as pd\n",
        "import numpy as np\n",
        "import imblearn\n",
        "import seaborn as sns\n",
        "from sklearn import metrics"
      ],
      "execution_count": null,
      "outputs": [
        {
          "output_type": "stream",
          "name": "stderr",
          "text": [
            "/usr/local/lib/python3.7/dist-packages/sklearn/externals/six.py:31: FutureWarning: The module is deprecated in version 0.21 and will be removed in version 0.23 since we've dropped support for Python 2.7. Please rely on the official version of six (https://pypi.org/project/six/).\n",
            "  \"(https://pypi.org/project/six/).\", FutureWarning)\n",
            "/usr/local/lib/python3.7/dist-packages/sklearn/utils/deprecation.py:144: FutureWarning: The sklearn.neighbors.base module is  deprecated in version 0.22 and will be removed in version 0.24. The corresponding classes / functions should instead be imported from sklearn.neighbors. Anything that cannot be imported from sklearn.neighbors is now part of the private API.\n",
            "  warnings.warn(message, FutureWarning)\n"
          ]
        }
      ]
    },
    {
      "cell_type": "code",
      "metadata": {
        "id": "Qv75AtCzkwmT"
      },
      "source": [
        "import torch\n",
        "import torch.nn as nn\n",
        "import torch.optim as optim\n",
        "import torch.nn.functional as F\n",
        "from torch.utils.data import DataLoader\n",
        "from torchvision import datasets, transforms"
      ],
      "execution_count": null,
      "outputs": []
    },
    {
      "cell_type": "markdown",
      "metadata": {
        "id": "10UxmvSyUIV3"
      },
      "source": [
        "Read the MAGIC dataset and assign x & y"
      ]
    },
    {
      "cell_type": "code",
      "metadata": {
        "id": "HS-mqpLWntEK",
        "colab": {
          "base_uri": "https://localhost:8080/",
          "height": 419
        },
        "outputId": "44659913-77ef-4dfe-e286-5ce2ef7aa6b3"
      },
      "source": [
        "file_url = \"https://archive.ics.uci.edu/ml/machine-learning-databases/magic/magic04.data\"\n",
        "headers = ['fLength','fWidth','fSize','fConc','fConc1','fAsym','fM3Long','fM3Trans','fAlpha','fDist','class']\n",
        "magic = pd.read_csv(file_url, sep=\",\", names=headers)\n",
        "display(magic)\n",
        "x = magic.iloc[:,:-1]\n",
        "y = magic.iloc[:,-1]"
      ],
      "execution_count": null,
      "outputs": [
        {
          "output_type": "display_data",
          "data": {
            "text/html": [
              "<div>\n",
              "<style scoped>\n",
              "    .dataframe tbody tr th:only-of-type {\n",
              "        vertical-align: middle;\n",
              "    }\n",
              "\n",
              "    .dataframe tbody tr th {\n",
              "        vertical-align: top;\n",
              "    }\n",
              "\n",
              "    .dataframe thead th {\n",
              "        text-align: right;\n",
              "    }\n",
              "</style>\n",
              "<table border=\"1\" class=\"dataframe\">\n",
              "  <thead>\n",
              "    <tr style=\"text-align: right;\">\n",
              "      <th></th>\n",
              "      <th>fLength</th>\n",
              "      <th>fWidth</th>\n",
              "      <th>fSize</th>\n",
              "      <th>fConc</th>\n",
              "      <th>fConc1</th>\n",
              "      <th>fAsym</th>\n",
              "      <th>fM3Long</th>\n",
              "      <th>fM3Trans</th>\n",
              "      <th>fAlpha</th>\n",
              "      <th>fDist</th>\n",
              "      <th>class</th>\n",
              "    </tr>\n",
              "  </thead>\n",
              "  <tbody>\n",
              "    <tr>\n",
              "      <th>0</th>\n",
              "      <td>28.7967</td>\n",
              "      <td>16.0021</td>\n",
              "      <td>2.6449</td>\n",
              "      <td>0.3918</td>\n",
              "      <td>0.1982</td>\n",
              "      <td>27.7004</td>\n",
              "      <td>22.0110</td>\n",
              "      <td>-8.2027</td>\n",
              "      <td>40.0920</td>\n",
              "      <td>81.8828</td>\n",
              "      <td>g</td>\n",
              "    </tr>\n",
              "    <tr>\n",
              "      <th>1</th>\n",
              "      <td>31.6036</td>\n",
              "      <td>11.7235</td>\n",
              "      <td>2.5185</td>\n",
              "      <td>0.5303</td>\n",
              "      <td>0.3773</td>\n",
              "      <td>26.2722</td>\n",
              "      <td>23.8238</td>\n",
              "      <td>-9.9574</td>\n",
              "      <td>6.3609</td>\n",
              "      <td>205.2610</td>\n",
              "      <td>g</td>\n",
              "    </tr>\n",
              "    <tr>\n",
              "      <th>2</th>\n",
              "      <td>162.0520</td>\n",
              "      <td>136.0310</td>\n",
              "      <td>4.0612</td>\n",
              "      <td>0.0374</td>\n",
              "      <td>0.0187</td>\n",
              "      <td>116.7410</td>\n",
              "      <td>-64.8580</td>\n",
              "      <td>-45.2160</td>\n",
              "      <td>76.9600</td>\n",
              "      <td>256.7880</td>\n",
              "      <td>g</td>\n",
              "    </tr>\n",
              "    <tr>\n",
              "      <th>3</th>\n",
              "      <td>23.8172</td>\n",
              "      <td>9.5728</td>\n",
              "      <td>2.3385</td>\n",
              "      <td>0.6147</td>\n",
              "      <td>0.3922</td>\n",
              "      <td>27.2107</td>\n",
              "      <td>-6.4633</td>\n",
              "      <td>-7.1513</td>\n",
              "      <td>10.4490</td>\n",
              "      <td>116.7370</td>\n",
              "      <td>g</td>\n",
              "    </tr>\n",
              "    <tr>\n",
              "      <th>4</th>\n",
              "      <td>75.1362</td>\n",
              "      <td>30.9205</td>\n",
              "      <td>3.1611</td>\n",
              "      <td>0.3168</td>\n",
              "      <td>0.1832</td>\n",
              "      <td>-5.5277</td>\n",
              "      <td>28.5525</td>\n",
              "      <td>21.8393</td>\n",
              "      <td>4.6480</td>\n",
              "      <td>356.4620</td>\n",
              "      <td>g</td>\n",
              "    </tr>\n",
              "    <tr>\n",
              "      <th>...</th>\n",
              "      <td>...</td>\n",
              "      <td>...</td>\n",
              "      <td>...</td>\n",
              "      <td>...</td>\n",
              "      <td>...</td>\n",
              "      <td>...</td>\n",
              "      <td>...</td>\n",
              "      <td>...</td>\n",
              "      <td>...</td>\n",
              "      <td>...</td>\n",
              "      <td>...</td>\n",
              "    </tr>\n",
              "    <tr>\n",
              "      <th>19015</th>\n",
              "      <td>21.3846</td>\n",
              "      <td>10.9170</td>\n",
              "      <td>2.6161</td>\n",
              "      <td>0.5857</td>\n",
              "      <td>0.3934</td>\n",
              "      <td>15.2618</td>\n",
              "      <td>11.5245</td>\n",
              "      <td>2.8766</td>\n",
              "      <td>2.4229</td>\n",
              "      <td>106.8258</td>\n",
              "      <td>h</td>\n",
              "    </tr>\n",
              "    <tr>\n",
              "      <th>19016</th>\n",
              "      <td>28.9452</td>\n",
              "      <td>6.7020</td>\n",
              "      <td>2.2672</td>\n",
              "      <td>0.5351</td>\n",
              "      <td>0.2784</td>\n",
              "      <td>37.0816</td>\n",
              "      <td>13.1853</td>\n",
              "      <td>-2.9632</td>\n",
              "      <td>86.7975</td>\n",
              "      <td>247.4560</td>\n",
              "      <td>h</td>\n",
              "    </tr>\n",
              "    <tr>\n",
              "      <th>19017</th>\n",
              "      <td>75.4455</td>\n",
              "      <td>47.5305</td>\n",
              "      <td>3.4483</td>\n",
              "      <td>0.1417</td>\n",
              "      <td>0.0549</td>\n",
              "      <td>-9.3561</td>\n",
              "      <td>41.0562</td>\n",
              "      <td>-9.4662</td>\n",
              "      <td>30.2987</td>\n",
              "      <td>256.5166</td>\n",
              "      <td>h</td>\n",
              "    </tr>\n",
              "    <tr>\n",
              "      <th>19018</th>\n",
              "      <td>120.5135</td>\n",
              "      <td>76.9018</td>\n",
              "      <td>3.9939</td>\n",
              "      <td>0.0944</td>\n",
              "      <td>0.0683</td>\n",
              "      <td>5.8043</td>\n",
              "      <td>-93.5224</td>\n",
              "      <td>-63.8389</td>\n",
              "      <td>84.6874</td>\n",
              "      <td>408.3166</td>\n",
              "      <td>h</td>\n",
              "    </tr>\n",
              "    <tr>\n",
              "      <th>19019</th>\n",
              "      <td>187.1814</td>\n",
              "      <td>53.0014</td>\n",
              "      <td>3.2093</td>\n",
              "      <td>0.2876</td>\n",
              "      <td>0.1539</td>\n",
              "      <td>-167.3125</td>\n",
              "      <td>-168.4558</td>\n",
              "      <td>31.4755</td>\n",
              "      <td>52.7310</td>\n",
              "      <td>272.3174</td>\n",
              "      <td>h</td>\n",
              "    </tr>\n",
              "  </tbody>\n",
              "</table>\n",
              "<p>19020 rows × 11 columns</p>\n",
              "</div>"
            ],
            "text/plain": [
              "        fLength    fWidth   fSize   fConc  ...  fM3Trans   fAlpha     fDist  class\n",
              "0       28.7967   16.0021  2.6449  0.3918  ...   -8.2027  40.0920   81.8828      g\n",
              "1       31.6036   11.7235  2.5185  0.5303  ...   -9.9574   6.3609  205.2610      g\n",
              "2      162.0520  136.0310  4.0612  0.0374  ...  -45.2160  76.9600  256.7880      g\n",
              "3       23.8172    9.5728  2.3385  0.6147  ...   -7.1513  10.4490  116.7370      g\n",
              "4       75.1362   30.9205  3.1611  0.3168  ...   21.8393   4.6480  356.4620      g\n",
              "...         ...       ...     ...     ...  ...       ...      ...       ...    ...\n",
              "19015   21.3846   10.9170  2.6161  0.5857  ...    2.8766   2.4229  106.8258      h\n",
              "19016   28.9452    6.7020  2.2672  0.5351  ...   -2.9632  86.7975  247.4560      h\n",
              "19017   75.4455   47.5305  3.4483  0.1417  ...   -9.4662  30.2987  256.5166      h\n",
              "19018  120.5135   76.9018  3.9939  0.0944  ...  -63.8389  84.6874  408.3166      h\n",
              "19019  187.1814   53.0014  3.2093  0.2876  ...   31.4755  52.7310  272.3174      h\n",
              "\n",
              "[19020 rows x 11 columns]"
            ]
          },
          "metadata": {}
        }
      ]
    },
    {
      "cell_type": "markdown",
      "metadata": {
        "id": "-Blte3CnUlPA"
      },
      "source": [
        "#Data Split"
      ]
    },
    {
      "cell_type": "markdown",
      "metadata": {
        "id": "2iCsaAeqavg1"
      },
      "source": [
        "Split the dataset randomly so that the training set would form 70% of the dataset and the testing set would form 30% of it.\n",
        "\n",
        "Then split the testing set into 2 sets :\n",
        "- Validation set : to help tune model parameters and help control overfitting.\n",
        "- Test set : to assess the performance of the final model and provide an estimation of the test error."
      ]
    },
    {
      "cell_type": "code",
      "metadata": {
        "id": "2QpXbMRP8S1p"
      },
      "source": [
        "from sklearn.model_selection import train_test_split\n",
        "x_train, x_allTest, y_train, y_allTest = train_test_split(x, y, test_size=.3, random_state=0)\n",
        "x_validation, x_test, y_validation, y_test = train_test_split(x_allTest, y_allTest, test_size=.5, random_state=0)"
      ],
      "execution_count": null,
      "outputs": []
    },
    {
      "cell_type": "markdown",
      "metadata": {
        "id": "Bh-ITJ4XXFmw"
      },
      "source": [
        "#Data Balancing"
      ]
    },
    {
      "cell_type": "markdown",
      "metadata": {
        "id": "dVdq5pz0axa3"
      },
      "source": [
        "Balance the dataset, randomly put aside the extra readings for the gamma “g” class to make both classes equal in size."
      ]
    },
    {
      "cell_type": "code",
      "metadata": {
        "id": "Q08taNHPKgt1",
        "colab": {
          "base_uri": "https://localhost:8080/"
        },
        "outputId": "b90498a3-a015-45e2-8ae8-4dc5e35e81ea"
      },
      "source": [
        "from imblearn.under_sampling import RandomUnderSampler\n",
        "under_sampler = RandomUnderSampler()\n",
        "x_res , y_res = under_sampler.fit_resample(x_train, y_train)"
      ],
      "execution_count": null,
      "outputs": [
        {
          "output_type": "stream",
          "name": "stderr",
          "text": [
            "/usr/local/lib/python3.7/dist-packages/sklearn/utils/deprecation.py:87: FutureWarning: Function safe_indexing is deprecated; safe_indexing is deprecated in version 0.22 and will be removed in version 0.24.\n",
            "  warnings.warn(msg, category=FutureWarning)\n"
          ]
        }
      ]
    },
    {
      "cell_type": "code",
      "metadata": {
        "id": "Je4tRcUJ-Cp4",
        "colab": {
          "base_uri": "https://localhost:8080/"
        },
        "outputId": "fda2045f-2783-422f-ac36-3ed4620b582e"
      },
      "source": [
        "print(magic.shape)\n",
        "print(x.shape)\n",
        "print(y.shape)\n",
        "print(x_train.shape)\n",
        "print(y_train.shape)\n",
        "print(x_res.shape)\n",
        "print(y_res.shape)\n",
        "unique, counts = np.unique(y_res, return_counts=True)\n",
        "print(dict(zip(unique, counts)))\n",
        "print(x_allTest.shape)\n",
        "print(y_allTest.shape)\n",
        "print(x_validation.shape)\n",
        "print(y_validation.shape)\n",
        "print(x_test.shape)\n",
        "print(y_test.shape)"
      ],
      "execution_count": null,
      "outputs": [
        {
          "output_type": "stream",
          "name": "stdout",
          "text": [
            "(19019, 11)\n",
            "(19019, 10)\n",
            "(19019,)\n",
            "(13313, 10)\n",
            "(13313,)\n",
            "(9292, 10)\n",
            "(9292,)\n",
            "{'g': 4646, 'h': 4646}\n",
            "(5706, 10)\n",
            "(5706,)\n",
            "(2853, 10)\n",
            "(2853,)\n",
            "(2853, 10)\n",
            "(2853,)\n"
          ]
        }
      ]
    },
    {
      "cell_type": "markdown",
      "metadata": {
        "id": "9KJF2RdabrYo"
      },
      "source": [
        "#Applying the classifiers"
      ]
    },
    {
      "cell_type": "markdown",
      "metadata": {
        "id": "_DO0tGkHbL4A"
      },
      "source": [
        "####Decision Tree Classifier"
      ]
    },
    {
      "cell_type": "code",
      "metadata": {
        "id": "EHbPI3PnRh1a"
      },
      "source": [
        "#Import Decision Tree model\n",
        "from sklearn.tree import DecisionTreeClassifier\n",
        "#Create classifier model\n",
        "decision_tree_model = DecisionTreeClassifier(criterion='entropy', random_state=0)\n",
        "#Train the model using the training sets\n",
        "decision_tree_trained = decision_tree_model.fit(x_res, y_res)"
      ],
      "execution_count": null,
      "outputs": []
    },
    {
      "cell_type": "code",
      "metadata": {
        "colab": {
          "base_uri": "https://localhost:8080/",
          "height": 500
        },
        "id": "2XFC6UCWtXBa",
        "outputId": "1ae53e25-4b01-47e5-faa6-96b945f2de3a"
      },
      "source": [
        "# Testing the model\n",
        "\n",
        "#Predict the response for test dataset\n",
        "y_pred = decision_tree_trained.predict(x_test)\n",
        "print(\"Accuracy:\",metrics.accuracy_score(y_test, y_pred))\n",
        "print(\"classification report:\")\n",
        "print(metrics.classification_report(y_test, y_pred))\n",
        "print(\"Confusion matrix:\",metrics.confusion_matrix(y_test, y_pred))\n",
        "confusion_matrix = metrics.plot_confusion_matrix(decision_tree_trained, x_test, y_test, normalize='true')"
      ],
      "execution_count": null,
      "outputs": [
        {
          "output_type": "stream",
          "name": "stdout",
          "text": [
            "Accuracy: 0.809323519102699\n",
            "classification report:\n",
            "              precision    recall  f1-score   support\n",
            "\n",
            "           g       0.89      0.81      0.85      1860\n",
            "           h       0.69      0.81      0.75       993\n",
            "\n",
            "    accuracy                           0.81      2853\n",
            "   macro avg       0.79      0.81      0.80      2853\n",
            "weighted avg       0.82      0.81      0.81      2853\n",
            "\n",
            "Confusion matrix: [[1502  358]\n",
            " [ 186  807]]\n"
          ]
        },
        {
          "output_type": "display_data",
          "data": {
            "image/png": "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\n",
            "text/plain": [
              "<Figure size 432x288 with 2 Axes>"
            ]
          },
          "metadata": {
            "needs_background": "light"
          }
        }
      ]
    },
    {
      "cell_type": "markdown",
      "metadata": {
        "id": "DnwO5241chfH"
      },
      "source": [
        "####Random Forest Classifier"
      ]
    },
    {
      "cell_type": "code",
      "metadata": {
        "id": "LWbEGjD8BcFH"
      },
      "source": [
        "#Import Random Forest Classifier model\n",
        "from sklearn.ensemble import RandomForestClassifier\n",
        "#Create classifier model\n",
        "random_forest_model = RandomForestClassifier()"
      ],
      "execution_count": null,
      "outputs": []
    },
    {
      "cell_type": "code",
      "metadata": {
        "id": "M_0LXFIDhyt_",
        "colab": {
          "base_uri": "https://localhost:8080/"
        },
        "outputId": "fc6ec962-fa25-4eea-b663-fd422940913c"
      },
      "source": [
        "from sklearn.model_selection import GridSearchCV\n",
        "param_grid = {'n_estimators': np.linspace(start = 200, stop = 2000, num = 10, dtype=int)}\n",
        "# run grid search\n",
        "RFC_grid_search = GridSearchCV(random_forest_model, param_grid=param_grid)\n",
        "RFC_grid_search.fit(x_res, y_res)"
      ],
      "execution_count": null,
      "outputs": [
        {
          "output_type": "execute_result",
          "data": {
            "text/plain": [
              "GridSearchCV(cv=None, error_score=nan,\n",
              "             estimator=RandomForestClassifier(bootstrap=True, ccp_alpha=0.0,\n",
              "                                              class_weight=None,\n",
              "                                              criterion='gini', max_depth=None,\n",
              "                                              max_features='auto',\n",
              "                                              max_leaf_nodes=None,\n",
              "                                              max_samples=None,\n",
              "                                              min_impurity_decrease=0.0,\n",
              "                                              min_impurity_split=None,\n",
              "                                              min_samples_leaf=1,\n",
              "                                              min_samples_split=2,\n",
              "                                              min_weight_fraction_leaf=0.0,\n",
              "                                              n_estimators=100, n_jobs=None,\n",
              "                                              oob_score=False,\n",
              "                                              random_state=None, verbose=0,\n",
              "                                              warm_start=False),\n",
              "             iid='deprecated', n_jobs=None,\n",
              "             param_grid={'n_estimators': array([ 200,  400,  600,  800, 1000, 1200, 1400, 1600, 1800, 2000])},\n",
              "             pre_dispatch='2*n_jobs', refit=True, return_train_score=False,\n",
              "             scoring=None, verbose=0)"
            ]
          },
          "metadata": {},
          "execution_count": 17
        }
      ]
    },
    {
      "cell_type": "code",
      "metadata": {
        "colab": {
          "base_uri": "https://localhost:8080/",
          "height": 517
        },
        "id": "pitVppwGnxD9",
        "outputId": "886558d8-c768-41b2-b147-58c4b3a59d1e"
      },
      "source": [
        "print(RFC_grid_search.best_params_)\n",
        "\n",
        "# Testing the model\n",
        "\n",
        "#Predict the response for test dataset\n",
        "y_pred = RFC_grid_search.predict(x_test)\n",
        "print(\"Accuracy:\",metrics.accuracy_score(y_test, y_pred))\n",
        "print(\"classification report:\")\n",
        "print(metrics.classification_report(y_test, y_pred))\n",
        "print(\"Confusion matrix:\",metrics.confusion_matrix(y_test, y_pred))\n",
        "confusion_matrix = metrics.plot_confusion_matrix(RFC_grid_search, x_test, y_test, normalize='true')"
      ],
      "execution_count": null,
      "outputs": [
        {
          "output_type": "stream",
          "name": "stdout",
          "text": [
            "{'n_estimators': 1400}\n",
            "Accuracy: 0.8699614440939362\n",
            "classification report:\n",
            "              precision    recall  f1-score   support\n",
            "\n",
            "           g       0.92      0.88      0.90      1860\n",
            "           h       0.79      0.85      0.82       993\n",
            "\n",
            "    accuracy                           0.87      2853\n",
            "   macro avg       0.85      0.87      0.86      2853\n",
            "weighted avg       0.87      0.87      0.87      2853\n",
            "\n",
            "Confusion matrix: [[1637  223]\n",
            " [ 148  845]]\n"
          ]
        },
        {
          "output_type": "display_data",
          "data": {
            "image/png": "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\n",
            "text/plain": [
              "<Figure size 432x288 with 2 Axes>"
            ]
          },
          "metadata": {
            "needs_background": "light"
          }
        }
      ]
    },
    {
      "cell_type": "markdown",
      "metadata": {
        "id": "oNzFtwyKLp3g"
      },
      "source": [
        "####Ada Boost Classifier"
      ]
    },
    {
      "cell_type": "code",
      "metadata": {
        "id": "xVrjfUB1Lo4R"
      },
      "source": [
        "#Import AdaBoost Classifier model\n",
        "from sklearn.ensemble import AdaBoostClassifier\n",
        "#Create classifier model\n",
        "ada_boost_model = AdaBoostClassifier()"
      ],
      "execution_count": null,
      "outputs": []
    },
    {
      "cell_type": "code",
      "metadata": {
        "colab": {
          "base_uri": "https://localhost:8080/"
        },
        "id": "spNgMvgAMo0P",
        "outputId": "b79d4e2a-e4ba-408f-8779-dcad39ddb150"
      },
      "source": [
        "from sklearn.model_selection import GridSearchCV\n",
        "param_grid = {'n_estimators': np.linspace(start = 100, stop = 1000, num = 10, dtype=int)}\n",
        "# run grid search\n",
        "Ada_grid_search = GridSearchCV(ada_boost_model, param_grid=param_grid)\n",
        "Ada_grid_search.fit(x_res, y_res)"
      ],
      "execution_count": null,
      "outputs": [
        {
          "output_type": "execute_result",
          "data": {
            "text/plain": [
              "GridSearchCV(cv=None, error_score=nan,\n",
              "             estimator=AdaBoostClassifier(algorithm='SAMME.R',\n",
              "                                          base_estimator=None,\n",
              "                                          learning_rate=1.0, n_estimators=50,\n",
              "                                          random_state=None),\n",
              "             iid='deprecated', n_jobs=None,\n",
              "             param_grid={'n_estimators': array([ 100,  200,  300,  400,  500,  600,  700,  800,  900, 1000])},\n",
              "             pre_dispatch='2*n_jobs', refit=True, return_train_score=False,\n",
              "             scoring=None, verbose=0)"
            ]
          },
          "metadata": {},
          "execution_count": 25
        }
      ]
    },
    {
      "cell_type": "code",
      "metadata": {
        "colab": {
          "base_uri": "https://localhost:8080/",
          "height": 517
        },
        "id": "3u1r6RzILa6n",
        "outputId": "5b4143b4-03a7-4a13-ff06-5f8c3f6c907e"
      },
      "source": [
        "print(Ada_grid_search.best_params_)\n",
        "\n",
        "# Testing the model\n",
        "\n",
        "#Predict the response for test dataset\n",
        "y_pred = Ada_grid_search.predict(x_test)\n",
        "print(\"Accuracy:\",metrics.accuracy_score(y_test, y_pred))\n",
        "print(\"classification report:\")\n",
        "print(metrics.classification_report(y_test, y_pred))\n",
        "print(\"Confusion matrix:\",metrics.confusion_matrix(y_test, y_pred))\n",
        "confusion_matrix = metrics.plot_confusion_matrix(Ada_grid_search, x_test, y_test, normalize='true')"
      ],
      "execution_count": null,
      "outputs": [
        {
          "output_type": "stream",
          "name": "stdout",
          "text": [
            "{'n_estimators': 400}\n",
            "Accuracy: 0.8138801261829653\n",
            "classification report:\n",
            "              precision    recall  f1-score   support\n",
            "\n",
            "           g       0.89      0.81      0.85      1860\n",
            "           h       0.70      0.82      0.75       993\n",
            "\n",
            "    accuracy                           0.81      2853\n",
            "   macro avg       0.80      0.81      0.80      2853\n",
            "weighted avg       0.83      0.81      0.82      2853\n",
            "\n",
            "Confusion matrix: [[1510  350]\n",
            " [ 181  812]]\n"
          ]
        },
        {
          "output_type": "display_data",
          "data": {
            "image/png": "iVBORw0KGgoAAAANSUhEUgAAATUAAAEGCAYAAAAE8QIHAAAABHNCSVQICAgIfAhkiAAAAAlwSFlzAAALEgAACxIB0t1+/AAAADh0RVh0U29mdHdhcmUAbWF0cGxvdGxpYiB2ZXJzaW9uMy4yLjIsIGh0dHA6Ly9tYXRwbG90bGliLm9yZy+WH4yJAAAcgUlEQVR4nO3de7xVdZ3/8df7HA6giCgeVEQETFARQ41AczK8Y2X8ZnJKrZ/1ywktL6XZ/NKS/JE5jWVOvyITzcYphXKyxJHELppaaVy8FCiXAeUmyUVBQOBwzmf+2OvgPkc4ey/Ym733Ou+nj/V47LXWd33Xd7Plw/e7vpeliMDMLCvqKl0AM7NSclAzs0xxUDOzTHFQM7NMcVAzs0zpUukC5GvsXR8D+ldVkayABc/3qHQRLIXNbGRrbNHu5HH2qT1izdrmotLOen7L9IgYszv3S6uqIsiA/l3448P9Kl0MS+GD/UdWugiWwtPNj+x2HmvWNvPn6YcVlba+74LG3b5hSlUV1Mys+gXQQkuli7FTfqZmZqkEQVM0F7UVImmMpHmSFkr60g7OHybpUUnPSHpe0vsL5emgZmaptRT5X0ck1QMTgXOAocAFkoa2S/YV4GcRcTxwPvD9QmVz89PMUgmC5tJMrxwJLIyIRQCSpgBjgbltbgf7Jp97ASsKZeqgZmaptVB0UGuUNDNvf1JETEo+9wOW5p1bBoxqd/0NwCOSrgB6AGcUuqGDmpmlEkBz8UFtdUSM2I3bXQD8e0TcIukk4MeShkXETtu2DmpmllqKmlpHlgP98/YPTY7luxgYAxARf5LUHWgEXt1Zpu4oMLNUAmiKKGorYAYwWNIgSV3JdQRMbZdmCXA6gKSjge7Aqo4ydU3NzFIJIk3zc+f5RGyTdDkwHagH7oqIOZImADMjYirwBeAOSVeRi6efjAKLQDqomVk6Ac0lWls2IqYB09odG5/3eS5wcpo8HdTMLJXcjILq5aBmZimJZnZrTnxZOaiZWSq5jgIHNTPLiNw4NQc1M8uQFtfUzCwrXFMzs0wJRHMVj9t3UDOz1Nz8NLPMCMTWqK90MXbKQc3MUskNvnXz08wyxB0FZpYZEaI5XFMzswxpcU3NzLIi11FQvaGjektmZlXJHQVmljnNHqdmZlnhGQVmljkt7v00s6zITWh3UDOzjAhEk6dJmVlWRODBt2aWJfLgWzPLjsA1NTPLGHcUmFlmBPIikWaWHblX5JUmdEgaA3wHqAfujIhvtDt/K3Bqsrs3cGBE7NdRng5qZpZSaV5mLKkemAicCSwDZkiaGhFzW9NExFV56a8Aji+Ub/U2jM2sKgW5GQXFbAWMBBZGxKKI2ApMAcZ2kP4CYHKhTF1TM7PUSrTybT9gad7+MmDUjhJKGgAMAn5XKFMHNTNLJUJp5n42SpqZtz8pIibtwm3PB/4zIpoLJXRQM7NUch0FRU+TWh0RI3ZybjnQP2//0OTYjpwPXFbMDR3UzCylkr2jYAYwWNIgcsHsfODCt91NOgrYH/hTMZk6qJlZKrmOgt1/phYR2yRdDkwnN6TjroiYI2kCMDMipiZJzwemREQUk6+DmpmlVqoZBRExDZjW7tj4dvs3pMnTQc3MUvGMAjPLHL94xcwyIwKaWhzUzCwjcs1PBzUzy5ASzSgoi+oNtzVg1qP7csl7j+HTJx/Dfd876G3nX13ewLXnDeHKs47m8jOOZsZv9wVg/dp6rj1vCOcNPo7bvtz/bddZ+YwYvY47fz+HHz05h49ctvJt54eNeoPv/eoFpr00m7/7wGttzl183XJu/81cbv/NXN537to9VeSq0zqko5itElxT20XNzXDblw/jxsnzOaBvE1e9/yhGnbWOw4Zs3p7mp9/py3vPXcv7P7GaJfO7c8P/PoJ3P/1XunYPPv7Py3n5xb14ed5eFfwWnUtdXXDZjUu59sLBrH6lge8+NI+nHunFkgVv/QarlnfllqsHcN4lr7a5duRp6zhi2CY+c/bRNHRt4Zv3LWDGo73YtKF6X0BSPtXd/KzeklW5+c/0oO/AzRw8YCsNXYNTxr7GU9PbLvMk2P4//cb19fQ+qAmA7nu3cMzIjXTtVtRYQiuRI4/byIqXurFySTe2NdXx2AP7c9JZ69qk+duybix+YW9aWtpee9iQzfzl6X1oaRZb3qxn8Yt7MWL0+j1Y+urSkrynoNBWCWUNapKulzRP0pOSJku6ppz325PWrGygzyFN2/cb+25lzcqGNmku/MIKHr3/AD7xrmO54aIjuPTGpe2zsT3ogL5NrHql6/b91SsbaOzb1MEVb1k0NxfEunVvYd/9tzH8pDfoc8jWchW1quV6P+uL2iqhbM1PSe8GPgwMBxqA2cCsHaQbB4wD6N8vW1X53/+yN6f/42r+4dJXeWFmD265ciATfzeXOtePa87sx/flyOEbufWBeaxb04UXZvegpbl6H5aXU7UPvi3nX6+TgQciYnNEvAE8uKNEETEpIkZExIg+B9ROUDvg4CZWrXirZrb6la4ccHDbf/V/PaWR956be9h89IiNbN1Sx/q1foxZKWteaaBP37dqV40HN7H6lYYOrmhr8nf78tmzj+baCwcjwbLF3cpRzJrQaZufWTbkuI2sWNydlUu60rRVPP7A/ow66/U2afr028pzT+Z6PJcu6E7TFtHrgG2VKK4B857rQb9BWzio/xa6NLQweuxrPPXrXkVdW1cX9Nwv99sNOnoTg456k1m/37ecxa1anbn38w/A7ZL+JbnPB4FdWRyuKtV3gUtvXML4CwfT0iLO/OhqBhy5mZ98sy+Dh29i1FnruHj8Mr77xQH88o4DkeDzt76Ekt/5U6OGsWlDPdu2iqce3o+vTV7QpufUSq+lWUy8vj833bOQurrgkZ8ewMvz9+Kia1Yw/7m9eerX+zFk+EbG37mInr2aOfHMdVx09SuMO30o9Q3BLffPB2DThjr+9cqBnbb5CVR176eKXM1j1zKXbiC3PtLfgFeBhyPijp2lf9fwbvHHh/uVrTxWeh/sP7LSRbAUnm5+hPWxdrei8f5HHRin3XVeUWnvP/m2WR0sElkW5Q6334qIIcDZwAB20FFgZrWnszY/ASZJGgp0B+6OiNllvp+ZlVmpFoksl7IGtYh429K8Zlb7Om1QM7PsqfZxag5qZpZapcagFcNBzcxSiYBtXiTSzLLEzU8zyww/UzOzzAkHNTPLEncUmFlmRPiZmpllimiu4t7P6i2ZmVWtCBW1FSJpTLI69kJJX9pJmo9ImitpjqR7C+XpmpqZpVKquZ+S6oGJwJnAMmCGpKkRMTcvzWDgWuDkiHhN0oGF8nVNzczSidxztWK2AkYCCyNiUURsBaYAY9ul+TQwMSJeA4iIVynAQc3MUkuxnHejpJl527i8bPoB+W8jWpYcyzcEGCLpD5KekjSmUNnc/DSzVCJdR8Hq3VwksgswGBgNHAo8LunYiHh9Zxe4pmZmqZWo+bkc6J+3f2hyLN8yYGpENEXEYmA+uSC3Uw5qZpZaiXo/ZwCDJQ2S1BU4H5jaLs0vydXSkNRIrjm6qKNM3fw0s1RytbDd7/2MiG2SLgemA/XAXRExR9IEYGZETE3OnSVpLtAMfDEi1nSUr4OamaVWqhkFETENmNbu2Pi8zwFcnWxFcVAzs9TK+BK63eagZmapBKKliqdJOaiZWWpVXFFzUDOzlErUUVAuDmpmll4VV9Uc1MwstZqsqUn6Lh3E44i4siwlMrOqFkBLSw0GNWDmHiuFmdWOAGqxphYRd+fvS9o7IjaVv0hmVu2qeZxawcEmkk5Kpii8mOwPl/T9spfMzKpXFLlVQDEj6P4NOBtYAxARzwGnlLNQZlbNipvMXqnOhKJ6PyNiqdSmgM3lKY6Z1YQqbn4WE9SWSnoPEJIagM8BL5S3WGZWtQKiins/i2l+XgpcRm6Z3RXAccm+mXVaKnLb8wrW1CJiNfCxPVAWM6sVVdz8LKb383BJD0paJelVSQ9IOnxPFM7MqlSN937eC/wM6AscAtwHTC5nocysirUOvi1mq4BigtreEfHjiNiWbD8Bupe7YGZWvUr04pWy6GjuZ+/k46+S18FPIRejP0q75XfNrJOp4t7PjjoKZpELYq2lvyTvXJB7FbyZdUKq4o6CjuZ+DtqTBTGzGlHBToBiFDWjQNIwYCh5z9Ii4j/KVSgzq2aV6wQoRsGgJumr5F4mOpTcs7RzgCcBBzWzzqqKa2rF9H6eB5wOrIyI/wMMB3qVtVRmVt1aitwqoJjm55sR0SJpm6R9gVeB/mUul5lVqypfJLKYmtpMSfsBd5DrEZ0N/KmspTKzqqYobiuYjzRG0jxJC5OhY+3PfzKZzfRssv1ToTyLmfv52eTjDyQ9DOwbEc8XLq6ZZVYJnqlJqgcmAmcCy4AZkqZGxNx2SX8aEZcXm29Hg29P6OhcRMwu9iZmZjswElgYEYsAJE0BxgLtg1oqHdXUbungXACn7c6Nd2TB8z34YL93lTpbK6PpK2ZVugiWwsizS/OakRSDbxsl5b/EaVJETEo+9wOW5p1bBozaQR4flnQKMB+4KiKW7iDNdh0Nvj21uDKbWacSpJkmtToiRuzG3R4EJkfEFkmXAHdToEJVTEeBmVlbpVl6aDltR1Icmhx76zYRayJiS7J7J1CwKeegZmaplaj3cwYwWNIgSV2B84Gpbe4j9c3b/RBFvEqgqGlSZmZtlKD3MyK2SbocmA7UA3dFxBxJE4CZETEVuFLSh4BtwFrgk4XyLWaalMgt5314REyQdBhwcET8ede/jpnVtBJNk4qIabRbyiwixud9vpaUKwIV0/z8PnAScEGy/wa5sSVm1gkV2/Ss1PJExTQ/R0XECZKeAYiI15L2r5l1VjW6SGSrpmTkbwBI6kPFpqqaWTWo5kUii2l+/n/gF8CBkr5Obtmhm8paKjOrblX8Nqli5n7eI2kWueWHBPyviPAb2s06qwo+LytGMb2fhwGbyI3s3X4sIpaUs2BmVsVqOagBD/HWC1i6A4OAecAxZSyXmVUxVfFT9WKan8fm7yerd3x2J8nNzCoq9YyCiJgtaUcz6c2ss6jl5qekq/N264ATgBVlK5GZVbda7ygAeuZ93kbuGdvPy1McM6sJtRrUkkG3PSPimj1UHjOrBbUY1CR1SWbRn7wnC2Rm1U3Ubu/nn8k9P3tW0lTgPmBj68mIuL/MZTOzapSBZ2rdgTXkltBtHa8WgIOaWWdVo0HtwKTn86+8FcxaVfFXMrOyq+II0FFQqwf2oW0wa1XFX8nMyq1Wm5+vRMSEPVYSM6sdNRrUqncVODOrnKjd3s/T91gpzKy21GJNLSLW7smCmFntqNVnamZmO+agZmaZUcGluovhoGZmqQg3P80sY6o5qBXzNikzs7ZK9DYpSWMkzZO0UNKXOkj3YUkhaUShPB3UzCy9EgS1ZGmzicA5wFDgAklDd5CuJ/A54OliiuagZmbpJKt0FLMVMBJYGBGLImIrMAUYu4N0XwP+FdhcTPEc1MwsveJrao2SZuZt4/Jy6QcszdtflhzbLnnRU/+IeKjYormjwMxSSzFNanVEFHwOtsN7SHXAt4FPprnOQc3MUitR7+dyoH/e/qHJsVY9gWHAY5IADgamSvpQRMzcWaYOamaWTukG384ABksaRC6YnQ9cuP02EeuAxtZ9SY8B13QU0MDP1MxsV5Sg9zMitgGXA9OBF4CfRcQcSRMkfWhXi+aampmlUsoZBRExDZjW7tj4naQdXUyeDmpmlppaqndKgYOamaXjCe1mljXVPPfTQc3M0nNQM7MscU3NzLLFQc3MMqOG3yZlZvY2XvnWzLInqjeqOaiZWWquqWXUiNHrufRrK6ivC341uTc/+95Bbc4PG7WBSyes4PCj3+SmzwzgyYf2237u4q+sYNTp61EdzH68J7ddfwi5ir2V04xHe/KD6/vR3CLOuWANH73i1TbnX13WwDc/fxgb19XT0iI+dd0KRp7+BrN+vw933XQI25pEl4bg09ev4Li/21Chb1FhVT74tmwT2iUNlPTXcuVfaXV1wWU3LecrHxvEp0cfyaljX+ewwW0X5ly1vCu3fL4/j/5i/zbHh47YyDHv3silpx/JJaceyZDhm3jnSRv3ZPE7peZmmHjdodx4zyLueOxFHn1gf16e361Nmnu/cxCnnPs63//1fK697SW+d21uZZxevZuZcPcibv/dPL74nSXcfOVhlfgKVUMtxW2V4JraLjry+E2seKkrK5fk/lI89sB+nHT2OpYs6L49zd+WdQWgpd2PGwFduwVdugYSdGkIXlvln6Lc5j2zN4cM3ELfAVsBGD32Nf40vRcDhrxVW5Ng0xv1AGxcX0/vg5oAOOLYN7enGXDkZrZsrmPrFtG1WxVXWcqoM/d+1ku6A3gPufWSxkbEmwWuqQkHHNzEqhVdt++vfqWBo07YVNS1L8zqwXN/3IfJz8xBgqk/amTpwu6FL7TdsmZlA30Oadq+39i3iRdn790mzce/sJLrLngHU3/UyOZNdXzjp//9tnyefKgXRwx7s9MGtFzzs3q/e7nXUxsMTIyIY4DXgQ+3TyBpXOv65U1sKXNxqsMhA7fQ/4jNfOxdQ7nwhKEMP3kDw0Z20uczVeaxX+7PmR9Zyz2z5vK1Hy/i5isGtKlpvzSvOz/8+iF87ualO8+kEyjRi1fKotxBbXFEPJt8ngUMbJ8gIiZFxIiIGNFAt/anq1buX/2t2/cb+zax+pWGoq59zznreHF2DzZvqmfzpnpmPtqTo0cUV8uzXZerXb/1G61+pYHGvk1t0jw8uTennPs6AENHbGLrFrF+ba5Bs2pFAxMuHsgXv7OEQwZupVMr0Xs/y6HcQS2/6tVMhp7hzXt2b/oN2spB/bfQpaGF0WNf56lHehV17arlDbzzpA3U1Qf1XYJjT9zIkgW1E9Br1ZHHbWL54m6sXNKVpq3isQf258Sz1rdJc2C/Jp59sicASxZ0Y+uWOnodsI0N6+q5/qLD+dR1r3DMyM7dqdM6+LZaa2qZCTJ7WkuzmPjlftx07yLq6uGRKb15eX53LvriSuY/txdPPdKLIcM3Mf6HL9Fzv2ZOPHM9F12zknGnHsUT/7Ufw0/ewO2/m0cEzHy0J0//uriAaLuuvgtc9vVlXHfh4bQ0i7POX8vAIzdz980HM2T4Jk46ez3jvrqcf7umP/ff0QcB19y6ZPtzzxWLu3LPtw/mnm8fDMC/TPlv9mvcVtkvVQkRVb1IpKJMD/wkDQT+KyKGJfvXAPtExA07u2Zf9Y5ROr0s5bHymL7i2cKJrGqMPHspM5/bvFsDInvud2gcf8rnikr7xIP/PGtXX5G3q8pWU4uIl8i93qp1/1vlupeZ7VmeUWBm2RFAFTc/HdTMLL3qjWkOamaWnpufZpYp1dz76aBmZul01lU6zCybcoNvo6itYF7SGEnzJC2U9KUdnL9U0l8kPSvpSUlDC+XpoGZm6bUUuXVAUj0wETgHGApcsIOgdW9EHBsRxwE3A98uVDQHNTNLrUQ1tZHAwohYFBFbgSnA2PwEEZE/j60HRTR8/UzNzNIp3TO1fkD+cifLgFHtE0m6DLga6AqcVihT19TMLKXc3M9iNqCxdWmxZBuX+m4REyPiHcD/Bb5SKL1ramaWXvFzxld3MPdzOdA/b//Q5NjOTAFuK3RD19TMLJ0o2TsKZgCDJQ2S1BU4H5ian0DS4LzdDwALCmXqmpqZpVeC1X0iYpuky4HpQD1wV0TMkTQBmBkRU4HLJZ0BNAGvAZ8olK+DmpmlV6LBtxExDZjW7tj4vM/FrXGUx0HNzFJT+1ekVREHNTNLJyg4sLaSHNTMLBVR3BSoSnFQM7P0HNTMLFMc1MwsM/xMzcyyxr2fZpYh4eanmWVI4KBmZhlTva1PBzUzS8/j1MwsWxzUzCwzIqC5etufDmpmlp5ramaWKQ5qZpYZAfgN7WaWHQHhZ2pmlhWBOwrMLGP8TM3MMsVBzcyywxPazSxLAvDSQ2aWKa6pmVl2eJqUmWVJQHicmpllShXPKKirdAHMrAZFFLcVIGmMpHmSFkr60g7OXy1prqTnJf1W0oBCeTqomVk6Ebnez2K2DkiqByYC5wBDgQskDW2X7BlgRES8E/hP4OZCxXNQM7P0SlNTGwksjIhFEbEVmAKMbXubeDQiNiW7TwGHFsrUz9TMLKUgmpuLTdwoaWbe/qSImJR87gcszTu3DBjVQV4XA78qdEMHNTNLJ93SQ6sjYsTu3lLSx4ERwPsKpXVQM7P0SjOkYznQP2//0ORYG5LOAL4MvC8ithTK1EHNzFIJIEozpGMGMFjSIHLB7HzgwvwEko4HbgfGRMSrxWTqoGZm6URpFomMiG2SLgemA/XAXRExR9IEYGZETAW+CewD3CcJYElEfKijfB3UzCy1FB0FHecTMQ2Y1u7Y+LzPZ6TNU1FFE1MlrQJernQ5yqARWF3pQlgqWf3NBkREn93JQNLD5P58irE6Isbszv3SqqqgllWSZpaiB8j2HP9mtcuDb80sUxzUzCxTHNT2jEmFk1iV8W9Wo/xMzcwyxTU1M8sUBzUzyxQHNbOEpIGS/lrpctjucVAzs0xxUCsjSdcnSxU/KWmypGsqXSYrqF7SHZLmSHpE0l6VLpCl46BWJpLeDXwYGE5uuWKPTq8Ng4GJEXEM8Dq539BqiCe0l8/JwAMRsRnYLOnBShfIirI4Ip5NPs8CBlawLLYLXFMzayt/EcJm/A9/zXFQK58/AOdK6i5pH+CDlS6QWWfgf4XKJCJmSJoKPA/8DfgLsK6ypTLLPk+TKiNJ+0TEBkl7A48D4yJidqXLZZZlrqmV16Tk5azdgbsd0MzKzzU1M8sUdxSYWaY4qJlZpjiomVmmOKjVEEnNkp6V9FdJ9yW9qrua179LOi/5fGfSobGztKMlvWcX7vGSpLe9dWhnx9ul2ZDyXjd4bq2Bg1qteTMijouIYcBW4NL8k5J2qTc7Iv4pIuZ2kGQ0kDqomVWCg1rtegI4IqlFPZEM9J0rqV7SNyXNkPS8pEsAlPO9ZNWQ3wAHtmYk6TFJI5LPYyTNlvScpN9KGkgueF6V1BLfK6mPpJ8n95gh6eTk2gOSlS3mSLoTUKEvIemXkmYl14xrd+7W5PhvJfVJjr1D0sPJNU9IOqoUf5iWHR6nVoOSGtk5wMPJoROAYRGxOAkM6yLi3ZK6AX+Q9AhwPHAkMBQ4CJgL3NUu3z7AHcApSV69I2KtpB8AGyLiW0m6e4FbI+JJSYcB04Gjga8CT0bEBEkfAC4u4ut8KrnHXsAMST+PiDVAD2BmRFwlaXyS9+XkXohyaUQskDQK+D5w2i78MVpGOajVlr0kta4g8QTwQ3LNwj9HxOLk+FnAO1uflwG9yC2ncwowOSKagRWSfreD/E8EHm/NKyLW7qQcZwBDpe0VsX2T+a2nAP+QXPuQpNeK+E5XSvr75HP/pKxrgBbgp8nxnwD3J/d4D3Bf3r27FXEP60Qc1GrLmxFxXP6B5C/3xvxDwBURMb1duveXsBx1wInJskrty1I0SaPJBciTImKTpMfIzb7YkUju+3r7PwOzfH6mlj3Tgc9IagCQNERSD3JzTz+aPHPrC5y6g2ufAk6RNCi5tndy/A2gZ166R4ArWncktQaZx4ELk2PnAPsXKGsv4LUkoB1FrqbYqg5orW1eSK5Zux5YLOkfk3tI0vAC97BOxkEte+4k97xsdvISkdvJ1ch/ASxIzv0H8Kf2F0bEKmAcuabec7zV/HsQ+PvWjgLgSmBE0hExl7d6Yf8fuaA4h1wzdEmBsj4MdJH0AvANckG11UZgZPIdTgMmJMc/BlyclG8OMLaIPxPrRDz308wyxTU1M8sUBzUzyxQHNTPLFAc1M8sUBzUzyxQHNTPLFAc1M8uU/wHkJHTHnKItbAAAAABJRU5ErkJggg==\n",
            "text/plain": [
              "<Figure size 432x288 with 2 Axes>"
            ]
          },
          "metadata": {
            "needs_background": "light"
          }
        }
      ]
    },
    {
      "cell_type": "markdown",
      "metadata": {
        "id": "1O0plfiK-gPo"
      },
      "source": [
        "####KNN Classifier"
      ]
    },
    {
      "cell_type": "code",
      "metadata": {
        "id": "DLo-qb8f-eiK"
      },
      "source": [
        "#Import K Nearest Neighbors Classifier model\n",
        "from sklearn.neighbors import KNeighborsClassifier\n",
        "#Create classifier model\n",
        "KNN_model= KNeighborsClassifier()"
      ],
      "execution_count": null,
      "outputs": []
    },
    {
      "cell_type": "code",
      "metadata": {
        "colab": {
          "base_uri": "https://localhost:8080/"
        },
        "id": "vqdMn40kGZbF",
        "outputId": "318662b0-747f-4b2a-9b98-0c51dc7817e6"
      },
      "source": [
        "from sklearn.model_selection import GridSearchCV\n",
        "param_grid = {'n_neighbors': np.linspace(start = 3, stop = 15, num = 13, dtype=int)}\n",
        "# run grid search\n",
        "KNN_grid_search = GridSearchCV(KNN_model, param_grid=param_grid)\n",
        "KNN_grid_search.fit(x_res, y_res)"
      ],
      "execution_count": null,
      "outputs": [
        {
          "output_type": "execute_result",
          "data": {
            "text/plain": [
              "GridSearchCV(cv=None, error_score=nan,\n",
              "             estimator=KNeighborsClassifier(algorithm='auto', leaf_size=30,\n",
              "                                            metric='minkowski',\n",
              "                                            metric_params=None, n_jobs=None,\n",
              "                                            n_neighbors=5, p=2,\n",
              "                                            weights='uniform'),\n",
              "             iid='deprecated', n_jobs=None,\n",
              "             param_grid={'n_neighbors': array([ 3,  4,  5,  6,  7,  8,  9, 10, 11, 12, 13, 14, 15])},\n",
              "             pre_dispatch='2*n_jobs', refit=True, return_train_score=False,\n",
              "             scoring=None, verbose=0)"
            ]
          },
          "metadata": {},
          "execution_count": 20
        }
      ]
    },
    {
      "cell_type": "code",
      "metadata": {
        "colab": {
          "base_uri": "https://localhost:8080/",
          "height": 517
        },
        "id": "oDvUKaqvHRSc",
        "outputId": "b662a30e-a88f-4b3b-8fd3-b8813015d5ef"
      },
      "source": [
        "print(KNN_grid_search.best_params_)\n",
        " \n",
        "# Testing the model\n",
        " \n",
        "#Predict the response for test dataset\n",
        "y_pred = KNN_grid_search.predict(x_test)\n",
        "print(\"Accuracy:\",metrics.accuracy_score(y_test, y_pred))\n",
        "print(\"classification report:\")\n",
        "print(metrics.classification_report(y_test, y_pred))\n",
        "print(\"Confusion matrix:\",metrics.confusion_matrix(y_test, y_pred))\n",
        "confusion_matrix = metrics.plot_confusion_matrix(KNN_grid_search, x_test, y_test, normalize='true')"
      ],
      "execution_count": null,
      "outputs": [
        {
          "output_type": "stream",
          "name": "stdout",
          "text": [
            "{'n_neighbors': 7}\n",
            "Accuracy: 0.7872415001752541\n",
            "classification report:\n",
            "              precision    recall  f1-score   support\n",
            "\n",
            "           g       0.83      0.84      0.84      1860\n",
            "           h       0.70      0.69      0.69       993\n",
            "\n",
            "    accuracy                           0.79      2853\n",
            "   macro avg       0.77      0.76      0.76      2853\n",
            "weighted avg       0.79      0.79      0.79      2853\n",
            "\n",
            "Confusion matrix: [[1565  295]\n",
            " [ 312  681]]\n"
          ]
        },
        {
          "output_type": "display_data",
          "data": {
            "image/png": "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\n",
            "text/plain": [
              "<Figure size 432x288 with 2 Axes>"
            ]
          },
          "metadata": {
            "needs_background": "light"
          }
        }
      ]
    },
    {
      "cell_type": "markdown",
      "metadata": {
        "id": "n-FCXfIf-qWB"
      },
      "source": [
        "####Naive Bayes Classifier"
      ]
    },
    {
      "cell_type": "code",
      "metadata": {
        "id": "1Ya_b-oR-qij"
      },
      "source": [
        "#Import Gaussian Naive Bayes model\n",
        "from sklearn.naive_bayes import GaussianNB\n",
        "#Create classifier model\n",
        "naive_bayes_model = GaussianNB()\n",
        "#Train the model using the training sets\n",
        "naive_bayes_trained = naive_bayes_model.fit(x_res, y_res)"
      ],
      "execution_count": null,
      "outputs": []
    },
    {
      "cell_type": "code",
      "metadata": {
        "id": "z2L20JiZ-qlh",
        "colab": {
          "base_uri": "https://localhost:8080/",
          "height": 500
        },
        "outputId": "e7101058-1ff5-421a-b19a-e81188897640"
      },
      "source": [
        "# Testing the model\n",
        "\n",
        "#Predict the response for test dataset\n",
        "y_pred = naive_bayes_trained.predict(x_test)\n",
        "print(\"Accuracy:\",metrics.accuracy_score(y_test, y_pred))\n",
        "print(\"classification report:\")\n",
        "print(metrics.classification_report(y_test, y_pred))\n",
        "print(\"Confusion matrix:\",metrics.confusion_matrix(y_test, y_pred))\n",
        "confusion_matrix = metrics.plot_confusion_matrix(naive_bayes_trained, x_test, y_test, normalize='true')"
      ],
      "execution_count": null,
      "outputs": [
        {
          "output_type": "stream",
          "name": "stdout",
          "text": [
            "Accuracy: 0.7283561163687347\n",
            "classification report:\n",
            "              precision    recall  f1-score   support\n",
            "\n",
            "           g       0.74      0.90      0.81      1860\n",
            "           h       0.68      0.42      0.52       993\n",
            "\n",
            "    accuracy                           0.73      2853\n",
            "   macro avg       0.71      0.66      0.66      2853\n",
            "weighted avg       0.72      0.73      0.71      2853\n",
            "\n",
            "Confusion matrix: [[1665  195]\n",
            " [ 580  413]]\n"
          ]
        },
        {
          "output_type": "display_data",
          "data": {
            "image/png": "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\n",
            "text/plain": [
              "<Figure size 432x288 with 2 Axes>"
            ]
          },
          "metadata": {
            "needs_background": "light"
          }
        }
      ]
    },
    {
      "cell_type": "markdown",
      "metadata": {
        "id": "_fvA2gnfjwYb"
      },
    }
  ]
}
